{
  "nbformat": 4,
  "nbformat_minor": 0,
  "metadata": {
    "colab": {
      "name": "Welcome To Colaboratory",
      "provenance": [],
      "collapsed_sections": [],
      "include_colab_link": true
    },
    "kernelspec": {
      "display_name": "Python 3",
      "name": "python3"
    }
  },
  "cells": [
    {
      "cell_type": "markdown",
      "metadata": {
        "id": "view-in-github",
        "colab_type": "text"
      },
      "source": [
        "<a href=\"https://colab.research.google.com/github/Saipraveen1/Machine-Learning-Algorithms/blob/main/Polynomial%20Regression.ipynb\" target=\"_parent\"><img src=\"https://colab.research.google.com/assets/colab-badge.svg\" alt=\"Open In Colab\"/></a>"
      ]
    },
    {
      "cell_type": "markdown",
      "metadata": {
        "id": "mmVEe3dOVbh2"
      },
      "source": [
        "# Polynomial regression"
      ]
    },
    {
      "cell_type": "markdown",
      "metadata": {
        "id": "P_eoP-EJVfiK"
      },
      "source": [
        "**Problem Description**"
      ]
    },
    {
      "cell_type": "markdown",
      "metadata": {
        "id": "hsRu2km7Vkg0"
      },
      "source": [
        "**Steps for Polynomial Regression**\n",
        "\n",
        "\n",
        "*   Data pre-processing\n",
        "*   build a linear regression model and fit it to dataset\n",
        "*   build a polynomial regression model and fit it to dataset\n",
        "*   visualize the result for linear regression and polynomial regression model\n",
        "*   Predicting the output\n",
        "\n",
        "\n"
      ]
    },
    {
      "cell_type": "code",
      "metadata": {
        "id": "hqwhYu0mXo_h"
      },
      "source": [
        "#importing libaries\n",
        "import numpy as np\n",
        "import pandas as pd\n",
        "import matplotlib.pyplot as plt"
      ],
      "execution_count": 4,
      "outputs": []
    },
    {
      "cell_type": "code",
      "metadata": {
        "id": "PVt3cj-2Wg7w",
        "outputId": "f20a99ab-a3ce-45bc-b420-81c9d6c82e5b",
        "colab": {
          "base_uri": "https://localhost:8080/"
        }
      },
      "source": [
        "#loading data\n",
        "from google.colab import drive\n",
        "drive.mount(\"/content/drive\")"
      ],
      "execution_count": 7,
      "outputs": [
        {
          "output_type": "stream",
          "name": "stdout",
          "text": [
            "Mounted at /content/drive\n"
          ]
        }
      ]
    },
    {
      "cell_type": "code",
      "metadata": {
        "id": "CdqURmNqZewW",
        "outputId": "3b7d95de-4a63-4fd3-8936-b7f19a62fab3",
        "colab": {
          "base_uri": "https://localhost:8080/",
          "height": 203
        }
      },
      "source": [
        "#loading dataset\n",
        "data_set = pd.read_csv(\"/content/drive/MyDrive/ml practice/Position_Salaries.csv\")\n",
        "data_set.head()\n"
      ],
      "execution_count": 11,
      "outputs": [
        {
          "output_type": "execute_result",
          "data": {
            "text/html": [
              "<div>\n",
              "<style scoped>\n",
              "    .dataframe tbody tr th:only-of-type {\n",
              "        vertical-align: middle;\n",
              "    }\n",
              "\n",
              "    .dataframe tbody tr th {\n",
              "        vertical-align: top;\n",
              "    }\n",
              "\n",
              "    .dataframe thead th {\n",
              "        text-align: right;\n",
              "    }\n",
              "</style>\n",
              "<table border=\"1\" class=\"dataframe\">\n",
              "  <thead>\n",
              "    <tr style=\"text-align: right;\">\n",
              "      <th></th>\n",
              "      <th>Position</th>\n",
              "      <th>Level</th>\n",
              "      <th>Salary</th>\n",
              "    </tr>\n",
              "  </thead>\n",
              "  <tbody>\n",
              "    <tr>\n",
              "      <th>0</th>\n",
              "      <td>Business Analyst</td>\n",
              "      <td>1</td>\n",
              "      <td>45000</td>\n",
              "    </tr>\n",
              "    <tr>\n",
              "      <th>1</th>\n",
              "      <td>Junior Consultant</td>\n",
              "      <td>2</td>\n",
              "      <td>50000</td>\n",
              "    </tr>\n",
              "    <tr>\n",
              "      <th>2</th>\n",
              "      <td>Senior Consultant</td>\n",
              "      <td>3</td>\n",
              "      <td>60000</td>\n",
              "    </tr>\n",
              "    <tr>\n",
              "      <th>3</th>\n",
              "      <td>Manager</td>\n",
              "      <td>4</td>\n",
              "      <td>80000</td>\n",
              "    </tr>\n",
              "    <tr>\n",
              "      <th>4</th>\n",
              "      <td>Country Manager</td>\n",
              "      <td>5</td>\n",
              "      <td>110000</td>\n",
              "    </tr>\n",
              "  </tbody>\n",
              "</table>\n",
              "</div>"
            ],
            "text/plain": [
              "            Position  Level  Salary\n",
              "0   Business Analyst      1   45000\n",
              "1  Junior Consultant      2   50000\n",
              "2  Senior Consultant      3   60000\n",
              "3            Manager      4   80000\n",
              "4    Country Manager      5  110000"
            ]
          },
          "metadata": {},
          "execution_count": 11
        }
      ]
    },
    {
      "cell_type": "code",
      "metadata": {
        "id": "-4j5V7cPazev",
        "outputId": "391f2fa8-785d-4c16-e643-7868b2196d64",
        "colab": {
          "base_uri": "https://localhost:8080/"
        }
      },
      "source": [
        "#extracting independent and dependent variables\n",
        "\n",
        "x = data_set.iloc[:,1:2].values\n",
        "y = data_set.iloc[:,2].values\n",
        "\n",
        "df = pd.DataFrame(x,y)\n",
        "\n",
        "print(df)\n"
      ],
      "execution_count": 23,
      "outputs": [
        {
          "output_type": "stream",
          "name": "stdout",
          "text": [
            "          0\n",
            "45000     1\n",
            "50000     2\n",
            "60000     3\n",
            "80000     4\n",
            "110000    5\n",
            "150000    6\n",
            "200000    7\n",
            "300000    8\n",
            "500000    9\n",
            "1000000  10\n"
          ]
        }
      ]
    },
    {
      "cell_type": "code",
      "metadata": {
        "id": "MIO8tJIscsDZ",
        "outputId": "3ad39219-f286-4006-d66f-14a6c43c3190",
        "colab": {
          "base_uri": "https://localhost:8080/"
        }
      },
      "source": [
        "#bulding linear regression model\n",
        "#fitting the linear regression to dataset\n",
        "\n",
        "from sklearn.linear_model import LinearRegression\n",
        "lin_reg = LinearRegression()\n",
        "lin_reg.fit(x,y)"
      ],
      "execution_count": 24,
      "outputs": [
        {
          "output_type": "execute_result",
          "data": {
            "text/plain": [
              "LinearRegression(copy_X=True, fit_intercept=True, n_jobs=None, normalize=False)"
            ]
          },
          "metadata": {},
          "execution_count": 24
        }
      ]
    },
    {
      "cell_type": "code",
      "metadata": {
        "id": "gw6I4nSKdSeU",
        "outputId": "3793f631-d6d3-4873-eeb6-74b10a313357",
        "colab": {
          "base_uri": "https://localhost:8080/"
        }
      },
      "source": [
        "#Building the polynomaial regression\n",
        "#fitting the polynomaial model to dataset\n",
        "\n",
        "from sklearn.preprocessing import PolynomialFeatures\n",
        "poly_reg = PolynomialFeatures(degree=2)\n",
        "x_poly = poly_reg.fit_transform(x)\n",
        "lin_reg_2 = LinearRegression()\n",
        "lin_reg_2.fit(x_poly,y)"
      ],
      "execution_count": 46,
      "outputs": [
        {
          "output_type": "execute_result",
          "data": {
            "text/plain": [
              "LinearRegression(copy_X=True, fit_intercept=True, n_jobs=None, normalize=False)"
            ]
          },
          "metadata": {},
          "execution_count": 46
        }
      ]
    },
    {
      "cell_type": "code",
      "metadata": {
        "id": "PuJZCP-gefFE",
        "outputId": "f804b8fd-54a3-4c03-91a9-24215ab4bc5b",
        "colab": {
          "base_uri": "https://localhost:8080/",
          "height": 295
        }
      },
      "source": [
        "# visualising the linear regression\n",
        "plt.scatter(x,y,color=\"blue\")\n",
        "plt.plot(x,lin_reg.predict(x),color=\"red\")\n",
        "plt.title(\"Bluff detection model(Linear Regression)\")\n",
        "plt.xlabel(\"Position Levels\")\n",
        "plt.ylabel(\"Salary\")\n",
        "plt.show()"
      ],
      "execution_count": 40,
      "outputs": [
        {
          "output_type": "display_data",
          "data": {
            "image/png": "[encoded data removed]",
            "text/plain": [
              "<Figure size 432x288 with 1 Axes>"
            ]
          },
          "metadata": {
            "needs_background": "light"
          }
        }
      ]
    },
    {
      "cell_type": "code",
      "metadata": {
        "id": "gIKqdjysfWZK",
        "outputId": "bce3d36c-c447-46be-ef26-f3f0fb7715be",
        "colab": {
          "base_uri": "https://localhost:8080/"
        }
      },
      "source": [
        "# Predicting the final result with the linear regression model:\n",
        "lin_pred = lin_reg.predict([[6.5]])\n",
        "print(lin_pred)"
      ],
      "execution_count": 30,
      "outputs": [
        {
          "output_type": "stream",
          "name": "stdout",
          "text": [
            "[330378.78787879]\n"
          ]
        }
      ]
    },
    {
      "cell_type": "code",
      "metadata": {
        "id": "il0WLe72g7hD",
        "outputId": "f99e6a91-a652-4291-cbf6-119be30b25c3",
        "colab": {
          "base_uri": "https://localhost:8080/",
          "height": 295
        }
      },
      "source": [
        "# visualising the Polynomial regression\n",
        "plt.scatter(x,y,color=\"blue\")\n",
        "plt.plot(x,lin_reg_2.predict(x_poly),color=\"red\")    # x_poly or lin_reg.fi_transform(x)\n",
        "plt.title(\"Bluff detection model(Polynomail Regression)\")\n",
        "plt.xlabel(\"Position Levels\")\n",
        "plt.ylabel(\"Salary\")\n",
        "plt.show()"
      ],
      "execution_count": 47,
      "outputs": [
        {
          "output_type": "display_data",
          "data": {
            "image/png": "[encoded data removed]",
            "text/plain": [
              "<Figure size 432x288 with 1 Axes>"
            ]
          },
          "metadata": {
            "needs_background": "light"
          }
        }
      ]
    },
    {
      "cell_type": "code",
      "metadata": {
        "id": "wzJXSOVefv8n",
        "outputId": "ac75ba5c-073a-41a0-fdb1-72f0cd8e8f11",
        "colab": {
          "base_uri": "https://localhost:8080/"
        }
      },
      "source": [
        "# Predicting the final result with the polynomial regression\n",
        "poly_pred = lin_reg_2.predict(poly_reg.fit_transform([[6.5]]))\n",
        "print(poly_pred)"
      ],
      "execution_count": 50,
      "outputs": [
        {
          "output_type": "stream",
          "name": "stdout",
          "text": [
            "[189498.10606061]\n"
          ]
        }
      ]
    }
  ]
}