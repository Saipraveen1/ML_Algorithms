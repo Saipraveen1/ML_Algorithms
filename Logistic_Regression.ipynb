{
  "nbformat": 4,
  "nbformat_minor": 0,
  "metadata": {
    "colab": {
      "name": "Welcome To Colaboratory",
      "provenance": [],
      "collapsed_sections": [],
      "include_colab_link": true
    },
    "kernelspec": {
      "display_name": "Python 3",
      "name": "python3"
    }
  },
  "cells": [
    {
      "cell_type": "markdown",
      "metadata": {
        "id": "view-in-github",
        "colab_type": "text"
      },
      "source": [
        "<a href=\"https://colab.research.google.com/github/Saipraveen1/Machine-Learning-Algorithms/blob/main/Logistic_Regression.ipynb\" target=\"_parent\"><img src=\"https://colab.research.google.com/assets/colab-badge.svg\" alt=\"Open In Colab\"/></a>"
      ]
    },
    {
      "cell_type": "markdown",
      "metadata": {
        "id": "Z9ajTH2QTefY"
      },
      "source": [
        "# Binomaial Logistoc Regression"
      ]
    },
    {
      "cell_type": "code",
      "metadata": {
        "id": "6WzbtXnSUiQL",
        "outputId": "39a76bf7-19d4-47b0-8a4a-c865b027e006",
        "colab": {
          "base_uri": "https://localhost:8080/"
        }
      },
      "source": [
        "# Loading data\n",
        "from google.colab import drive\n",
        "drive.mount(\"/content/drive\")"
      ],
      "execution_count": 4,
      "outputs": [
        {
          "output_type": "stream",
          "name": "stdout",
          "text": [
            "Mounted at /content/drive\n"
          ]
        }
      ]
    },
    {
      "cell_type": "markdown",
      "metadata": {
        "id": "qvRx9aRoWRBH"
      },
      "source": [
        "**Step 1 : Data pre-processing**"
      ]
    },
    {
      "cell_type": "code",
      "metadata": {
        "id": "R7gluJ9vVybM"
      },
      "source": [
        "# importing libraries\n",
        "import matplotlib.pyplot as plt\n",
        "import pandas as pd\n",
        "import numpy as np"
      ],
      "execution_count": 6,
      "outputs": []
    },
    {
      "cell_type": "code",
      "metadata": {
        "id": "ELuJZVm5VnsF",
        "outputId": "5b34b8c5-19b6-4443-a24a-f43e7e408904",
        "colab": {
          "base_uri": "https://localhost:8080/",
          "height": 204
        }
      },
      "source": [
        "# assigning data to a variable\n",
        "data_Set = pd.read_csv(\"/content/drive/MyDrive/ml practice/Social_Network_Ads.csv\")\n",
        "data_Set.head()"
      ],
      "execution_count": 8,
      "outputs": [
        {
          "output_type": "execute_result",
          "data": {
            "text/html": [
              "<div>\n",
              "<style scoped>\n",
              "    .dataframe tbody tr th:only-of-type {\n",
              "        vertical-align: middle;\n",
              "    }\n",
              "\n",
              "    .dataframe tbody tr th {\n",
              "        vertical-align: top;\n",
              "    }\n",
              "\n",
              "    .dataframe thead th {\n",
              "        text-align: right;\n",
              "    }\n",
              "</style>\n",
              "<table border=\"1\" class=\"dataframe\">\n",
              "  <thead>\n",
              "    <tr style=\"text-align: right;\">\n",
              "      <th></th>\n",
              "      <th>User ID</th>\n",
              "      <th>Gender</th>\n",
              "      <th>Age</th>\n",
              "      <th>EstimatedSalary</th>\n",
              "      <th>Purchased</th>\n",
              "    </tr>\n",
              "  </thead>\n",
              "  <tbody>\n",
              "    <tr>\n",
              "      <th>0</th>\n",
              "      <td>15624510</td>\n",
              "      <td>Male</td>\n",
              "      <td>19</td>\n",
              "      <td>19000</td>\n",
              "      <td>0</td>\n",
              "    </tr>\n",
              "    <tr>\n",
              "      <th>1</th>\n",
              "      <td>15810944</td>\n",
              "      <td>Male</td>\n",
              "      <td>35</td>\n",
              "      <td>20000</td>\n",
              "      <td>0</td>\n",
              "    </tr>\n",
              "    <tr>\n",
              "      <th>2</th>\n",
              "      <td>15668575</td>\n",
              "      <td>Female</td>\n",
              "      <td>26</td>\n",
              "      <td>43000</td>\n",
              "      <td>0</td>\n",
              "    </tr>\n",
              "    <tr>\n",
              "      <th>3</th>\n",
              "      <td>15603246</td>\n",
              "      <td>Female</td>\n",
              "      <td>27</td>\n",
              "      <td>57000</td>\n",
              "      <td>0</td>\n",
              "    </tr>\n",
              "    <tr>\n",
              "      <th>4</th>\n",
              "      <td>15804002</td>\n",
              "      <td>Male</td>\n",
              "      <td>19</td>\n",
              "      <td>76000</td>\n",
              "      <td>0</td>\n",
              "    </tr>\n",
              "  </tbody>\n",
              "</table>\n",
              "</div>"
            ],
            "text/plain": [
              "    User ID  Gender  Age  EstimatedSalary  Purchased\n",
              "0  15624510    Male   19            19000          0\n",
              "1  15810944    Male   35            20000          0\n",
              "2  15668575  Female   26            43000          0\n",
              "3  15603246  Female   27            57000          0\n",
              "4  15804002    Male   19            76000          0"
            ]
          },
          "metadata": {},
          "execution_count": 8
        }
      ]
    },
    {
      "cell_type": "code",
      "metadata": {
        "id": "KEQwz-HJWiKq"
      },
      "source": [
        "# extracting independent variables and dependent variables\n",
        "x = data_Set.iloc[:,[2,3]].values\n",
        "y = data_Set.iloc[:,4].values"
      ],
      "execution_count": 9,
      "outputs": []
    },
    {
      "cell_type": "code",
      "metadata": {
        "id": "hjXSwq_zXIGI"
      },
      "source": [
        "# splitting dataset into training and testing set\n",
        "from sklearn.model_selection import train_test_split\n",
        "x_train, x_test, y_train, y_test = train_test_split(x,y,test_size = 0.25, random_state = 0)"
      ],
      "execution_count": 10,
      "outputs": []
    },
    {
      "cell_type": "code",
      "metadata": {
        "id": "awc3PLwHXtx0"
      },
      "source": [
        "# Feature scaling\n",
        "from sklearn.preprocessing import StandardScaler\n",
        "st_x = StandardScaler()\n",
        "\n",
        "x_train = st_x.fit_transform(x_train)\n",
        "x_test = st_x.fit_transform(x_test)"
      ],
      "execution_count": 15,
      "outputs": []
    },
    {
      "cell_type": "markdown",
      "metadata": {
        "id": "UT8tQXv5Y5Qw"
      },
      "source": [
        "**Step 2: Fitting Logistic Regression to the training set** "
      ]
    },
    {
      "cell_type": "code",
      "metadata": {
        "id": "rbD5M1Z-ZFDs",
        "outputId": "b6086bfc-f844-49d2-c86d-8261f24cb66b",
        "colab": {
          "base_uri": "https://localhost:8080/"
        }
      },
      "source": [
        "# Fitting Logistic Regression to the training set\n",
        "from sklearn.linear_model import LogisticRegression\n",
        "classifier = LogisticRegression(random_state = 0)\n",
        "classifier.fit(x_train,y_train)"
      ],
      "execution_count": 17,
      "outputs": [
        {
          "output_type": "execute_result",
          "data": {
            "text/plain": [
              "LogisticRegression(C=1.0, class_weight=None, dual=False, fit_intercept=True,\n",
              "                   intercept_scaling=1, l1_ratio=None, max_iter=100,\n",
              "                   multi_class='auto', n_jobs=None, penalty='l2',\n",
              "                   random_state=0, solver='lbfgs', tol=0.0001, verbose=0,\n",
              "                   warm_start=False)"
            ]
          },
          "metadata": {},
          "execution_count": 17
        }
      ]
    },
    {
      "cell_type": "markdown",
      "metadata": {
        "id": "UBM5KW6WaA7Z"
      },
      "source": [
        "**Step 3 : Predicting the test result**"
      ]
    },
    {
      "cell_type": "code",
      "metadata": {
        "id": "OXQUO87taP1s"
      },
      "source": [
        "# Predicting the test result\n",
        "y_pred = classifier.predict(x_test)"
      ],
      "execution_count": 18,
      "outputs": []
    },
    {
      "cell_type": "markdown",
      "metadata": {
        "id": "veSAmAVkagLE"
      },
      "source": [
        "**Step 4: Test Acurracy of the result**"
      ]
    },
    {
      "cell_type": "code",
      "metadata": {
        "id": "OU10ItEmauEa"
      },
      "source": [
        "# Creating the confusion Matirix\n",
        "from sklearn.metrics import confusion_matrix\n",
        "cm = confusion_matrix(y_test, y_pred)"
      ],
      "execution_count": 22,
      "outputs": []
    },
    {
      "cell_type": "markdown",
      "metadata": {
        "id": "ppgBOQ6tb27M"
      },
      "source": [
        "**Step 5: visualising the training set**"
      ]
    },
    {
      "cell_type": "code",
      "metadata": {
        "id": "1j0qOy9Pb-2G",
        "outputId": "56f07cfd-7975-429e-adb4-068628fad249",
        "colab": {
          "base_uri": "https://localhost:8080/",
          "height": 352
        }
      },
      "source": [
        "#Visualizing the training set result  \n",
        "from matplotlib.colors import ListedColormap  \n",
        "x_set, y_set = x_train, y_train  \n",
        "x1, x2 = np.meshgrid(np.arange(start = x_set[:, 0].min() - 1, stop = x_set[:, 0].max() + 1, step  =0.01),  \n",
        "np.arange(start = x_set[:, 1].min() - 1, stop = x_set[:, 1].max() + 1, step = 0.01))  \n",
        "plt.contourf(x1, x2, classifier.predict(np.array([x1.ravel(), x2.ravel()]).T).reshape(x1.shape),  \n",
        "alpha = 0.75, cmap = ListedColormap(('purple','green' )))  \n",
        "plt.xlim(x1.min(), x1.max())  \n",
        "plt.ylim(x2.min(), x2.max())  \n",
        "for i, j in enumerate(np.unique(y_set)):  \n",
        "    plt.scatter(x_set[y_set == j, 0], x_set[y_set == j, 1],  \n",
        "        c = ListedColormap(('purple', 'green'))(i), label = j)  \n",
        "plt.title('Logistic Regression (Training set)')  \n",
        "plt.xlabel('Age')  \n",
        "plt.ylabel('Estimated Salary')  \n",
        "plt.legend()  \n",
        "plt.show()  "
      ],
      "execution_count": 26,
      "outputs": [
        {
          "output_type": "stream",
          "name": "stderr",
          "text": [
            "*c* argument looks like a single numeric RGB or RGBA sequence, which should be avoided as value-mapping will have precedence in case its length matches with *x* & *y*.  Please use the *color* keyword-argument or provide a 2-D array with a single row if you intend to specify the same RGB or RGBA value for all points.\n",
            "*c* argument looks like a single numeric RGB or RGBA sequence, which should be avoided as value-mapping will have precedence in case its length matches with *x* & *y*.  Please use the *color* keyword-argument or provide a 2-D array with a single row if you intend to specify the same RGB or RGBA value for all points.\n"
          ]
        },
        {
          "output_type": "display_data",
          "data": {
            "image/png": "[encoded data removed]",
            "text/plain": [
              "<Figure size 432x288 with 1 Axes>"
            ]
          },
          "metadata": {
            "needs_background": "light"
          }
        }
      ]
    },
    {
      "cell_type": "markdown",
      "metadata": {
        "id": "AXytHh-IcrRx"
      },
      "source": [
        "**Step 6: visualizing the testing set**"
      ]
    },
    {
      "cell_type": "code",
      "metadata": {
        "id": "jCUUFoP8c1m6",
        "outputId": "e67aa755-f1e0-4fa5-cd38-db94a1490135",
        "colab": {
          "base_uri": "https://localhost:8080/",
          "height": 352
        }
      },
      "source": [
        "#Visulaizing the test set result  \n",
        "from matplotlib.colors import ListedColormap  \n",
        "x_set, y_set = x_test, y_test  \n",
        "x1, x2 = np.meshgrid(np.arange(start = x_set[:, 0].min() - 1, stop = x_set[:, 0].max() + 1, step  =0.01),  \n",
        "np.arange(start = x_set[:, 1].min() - 1, stop = x_set[:, 1].max() + 1, step = 0.01))  \n",
        "plt.contourf(x1, x2, classifier.predict(np.array([x1.ravel(), x2.ravel()]).T).reshape(x1.shape),  \n",
        "alpha = 0.75, cmap = ListedColormap(('purple','green' )))  \n",
        "plt.xlim(x1.min(), x1.max())  \n",
        "plt.ylim(x2.min(), x2.max())  \n",
        "for i, j in enumerate(np.unique(y_set)):  \n",
        "    plt.scatter(x_set[y_set == j, 0], x_set[y_set == j, 1],  \n",
        "        c = ListedColormap(('purple', 'green'))(i), label = j)  \n",
        "plt.title('Logistic Regression (Test set)')  \n",
        "plt.xlabel('Age')  \n",
        "plt.ylabel('Estimated Salary')  \n",
        "plt.legend()  \n",
        "plt.show()"
      ],
      "execution_count": 30,
      "outputs": [
        {
          "output_type": "stream",
          "name": "stderr",
          "text": [
            "*c* argument looks like a single numeric RGB or RGBA sequence, which should be avoided as value-mapping will have precedence in case its length matches with *x* & *y*.  Please use the *color* keyword-argument or provide a 2-D array with a single row if you intend to specify the same RGB or RGBA value for all points.\n",
            "*c* argument looks like a single numeric RGB or RGBA sequence, which should be avoided as value-mapping will have precedence in case its length matches with *x* & *y*.  Please use the *color* keyword-argument or provide a 2-D array with a single row if you intend to specify the same RGB or RGBA value for all points.\n"
          ]
        },
        {
          "output_type": "display_data",
          "data": {
            "image/png": "[encoded data removed]",
            "text/plain": [
              "<Figure size 432x288 with 1 Axes>"
            ]
          },
          "metadata": {
            "needs_background": "light"
          }
        }
      ]
    }
  ]
}