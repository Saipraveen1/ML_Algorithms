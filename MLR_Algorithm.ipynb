{
  "nbformat": 4,
  "nbformat_minor": 0,
  "metadata": {
    "colab": {
      "name": "MLR Algorithm.ipynb",
      "provenance": [],
      "collapsed_sections": [],
      "authorship_tag": "ABX9TyNcoEGgPg2dbbUlxg3Hexj/",
      "include_colab_link": true
    },
    "kernelspec": {
      "name": "python3",
      "display_name": "Python 3"
    },
    "language_info": {
      "name": "python"
    }
  },
  "cells": [
    {
      "cell_type": "markdown",
      "metadata": {
        "id": "view-in-github",
        "colab_type": "text"
      },
      "source": [
        "<a href=\"https://colab.research.google.com/github/Saipraveen1/Machine-Learning-Algorithms/blob/main/MLR_Algorithm.ipynb\" target=\"_parent\"><img src=\"https://colab.research.google.com/assets/colab-badge.svg\" alt=\"Open In Colab\"/></a>"
      ]
    },
    {
      "cell_type": "markdown",
      "metadata": {
        "id": "7GFmRuLFn4nZ"
      },
      "source": [
        "# Problem Description:\n",
        "We have a dataset of 50 start-up companies. This dataset contains five main information: R&D spend, administration spend, marketing spends, state, and profit for a financial year.\n",
        "**GOAL:**\n",
        "Our goal is to create a model that can easily determine which company has a maximum profit, and which is the most affecting factor of a company.\n"
      ]
    },
    {
      "cell_type": "code",
      "metadata": {
        "id": "hMo8_Hx4p_J1"
      },
      "source": [
        "import numpy as np\n",
        "import pandas as pd\n",
        "import matplotlib.pyplot as plt"
      ],
      "execution_count": 6,
      "outputs": []
    },
    {
      "cell_type": "markdown",
      "metadata": {
        "id": "KKL4EEJIqDQa"
      },
      "source": [
        "loading data"
      ]
    },
    {
      "cell_type": "code",
      "metadata": {
        "colab": {
          "base_uri": "https://localhost:8080/"
        },
        "id": "wjfpeqJSpaNo",
        "outputId": "ec4a2b9d-99ff-4a30-8993-33113a96ecbb"
      },
      "source": [
        "from google.colab import drive\n",
        "drive.mount('/content/drive')"
      ],
      "execution_count": 5,
      "outputs": [
        {
          "output_type": "stream",
          "name": "stdout",
          "text": [
            "Mounted at /content/drive\n"
          ]
        }
      ]
    },
    {
      "cell_type": "code",
      "metadata": {
        "colab": {
          "base_uri": "https://localhost:8080/",
          "height": 203
        },
        "id": "DHp2ERoFqPv8",
        "outputId": "e70fd038-cb53-4e15-85ae-ec4523c25208"
      },
      "source": [
        "data_set = pd.read_csv('/content/drive/MyDrive/ml practice/50_Startups.csv')\n",
        "data_set.head()"
      ],
      "execution_count": 8,
      "outputs": [
        {
          "output_type": "execute_result",
          "data": {
            "text/html": [
              "<div>\n",
              "<style scoped>\n",
              "    .dataframe tbody tr th:only-of-type {\n",
              "        vertical-align: middle;\n",
              "    }\n",
              "\n",
              "    .dataframe tbody tr th {\n",
              "        vertical-align: top;\n",
              "    }\n",
              "\n",
              "    .dataframe thead th {\n",
              "        text-align: right;\n",
              "    }\n",
              "</style>\n",
              "<table border=\"1\" class=\"dataframe\">\n",
              "  <thead>\n",
              "    <tr style=\"text-align: right;\">\n",
              "      <th></th>\n",
              "      <th>R&amp;D Spend</th>\n",
              "      <th>Administration</th>\n",
              "      <th>Marketing Spend</th>\n",
              "      <th>State</th>\n",
              "      <th>Profit</th>\n",
              "    </tr>\n",
              "  </thead>\n",
              "  <tbody>\n",
              "    <tr>\n",
              "      <th>0</th>\n",
              "      <td>165349.20</td>\n",
              "      <td>136897.80</td>\n",
              "      <td>471784.10</td>\n",
              "      <td>New York</td>\n",
              "      <td>192261.83</td>\n",
              "    </tr>\n",
              "    <tr>\n",
              "      <th>1</th>\n",
              "      <td>162597.70</td>\n",
              "      <td>151377.59</td>\n",
              "      <td>443898.53</td>\n",
              "      <td>California</td>\n",
              "      <td>191792.06</td>\n",
              "    </tr>\n",
              "    <tr>\n",
              "      <th>2</th>\n",
              "      <td>153441.51</td>\n",
              "      <td>101145.55</td>\n",
              "      <td>407934.54</td>\n",
              "      <td>Florida</td>\n",
              "      <td>191050.39</td>\n",
              "    </tr>\n",
              "    <tr>\n",
              "      <th>3</th>\n",
              "      <td>144372.41</td>\n",
              "      <td>118671.85</td>\n",
              "      <td>383199.62</td>\n",
              "      <td>New York</td>\n",
              "      <td>182901.99</td>\n",
              "    </tr>\n",
              "    <tr>\n",
              "      <th>4</th>\n",
              "      <td>142107.34</td>\n",
              "      <td>91391.77</td>\n",
              "      <td>366168.42</td>\n",
              "      <td>Florida</td>\n",
              "      <td>166187.94</td>\n",
              "    </tr>\n",
              "  </tbody>\n",
              "</table>\n",
              "</div>"
            ],
            "text/plain": [
              "   R&D Spend  Administration  Marketing Spend       State     Profit\n",
              "0  165349.20       136897.80        471784.10    New York  192261.83\n",
              "1  162597.70       151377.59        443898.53  California  191792.06\n",
              "2  153441.51       101145.55        407934.54     Florida  191050.39\n",
              "3  144372.41       118671.85        383199.62    New York  182901.99\n",
              "4  142107.34        91391.77        366168.42     Florida  166187.94"
            ]
          },
          "metadata": {},
          "execution_count": 8
        }
      ]
    },
    {
      "cell_type": "markdown",
      "metadata": {
        "id": "TpGoTNzPqq2M"
      },
      "source": [
        "Extract the dependent variables and the independent variables"
      ]
    },
    {
      "cell_type": "code",
      "metadata": {
        "id": "fs_hQyg0qwgi"
      },
      "source": [
        "x = data_set.iloc[:, :-1].values\n",
        "y = data_set.iloc[:, 4].values"
      ],
      "execution_count": 9,
      "outputs": []
    },
    {
      "cell_type": "markdown",
      "metadata": {
        "id": "dE6nC3cjq7T-"
      },
      "source": [
        "Changing catagoriacal data to numerical values this is known as dummy data"
      ]
    },
    {
      "cell_type": "markdown",
      "metadata": {
        "id": "W11rxgtQs8w5"
      },
      "source": [
        "Avoiding the dummy variable trap"
      ]
    },
    {
      "cell_type": "code",
      "metadata": {
        "id": "1aBHTejLvwT1"
      },
      "source": [
        "from sklearn.preprocessing import LabelEncoder, OneHotEncoder\n",
        "labelencoder_x = LabelEncoder()\n",
        "x[:,3] = labelencoder_x.fit_transform(x[:,3])\n",
        "onehotencoder = OneHotEncoder(categorical_features = [3])\n",
        "x = onehotencoder.fit_transform(x).toarray()"
      ],
      "execution_count": null,
      "outputs": []
    },
    {
      "cell_type": "code",
      "metadata": {
        "id": "e_WlCljgtFSj"
      },
      "source": [
        "x = x[:,1:]"
      ],
      "execution_count": 13,
      "outputs": []
    },
    {
      "cell_type": "markdown",
      "metadata": {
        "id": "0IFAmAzAtNpA"
      },
      "source": [
        "Split the dataset training and testing sets"
      ]
    },
    {
      "cell_type": "code",
      "metadata": {
        "id": "xIZtK3SDtRl6"
      },
      "source": [
        "from sklearn.model_selection import train_test_split\n",
        "\n",
        "x_train, x_test, y_train, y_test = train_test_split(x,y ,test_size=0.2,random_state=0)"
      ],
      "execution_count": 19,
      "outputs": []
    },
    {
      "cell_type": "markdown",
      "metadata": {
        "id": "ife9ZLPCtjFU"
      },
      "source": [
        "Fitting the Multiple linear regression to the training set."
      ]
    },
    {
      "cell_type": "code",
      "metadata": {
        "colab": {
          "base_uri": "https://localhost:8080/"
        },
        "id": "_bOd4WXTtkTR",
        "outputId": "59e8c2ae-0825-4ae5-b43f-f17c4959148d"
      },
      "source": [
        "from sklearn.linear_model import LinearRegression\n",
        "regressor = LinearRegression()\n",
        "\n",
        "regressor.fit(x_train,y_train)"
      ],
      "execution_count": 15,
      "outputs": [
        {
          "output_type": "execute_result",
          "data": {
            "text/plain": [
              "LinearRegression(copy_X=True, fit_intercept=True, n_jobs=None, normalize=False)"
            ]
          },
          "metadata": {},
          "execution_count": 15
        }
      ]
    },
    {
      "cell_type": "markdown",
      "metadata": {
        "id": "ASELoHTOtw8Y"
      },
      "source": [
        "Prediction of test set result"
      ]
    },
    {
      "cell_type": "code",
      "metadata": {
        "id": "1M-EVxVztz9_"
      },
      "source": [
        "y_pred = regressor.predict(x_test)\n",
        "x_pred = regressor.predict(x_train)"
      ],
      "execution_count": 16,
      "outputs": []
    },
    {
      "cell_type": "markdown",
      "metadata": {
        "id": "Wiwzw6B6uDuH"
      },
      "source": [
        "Score test"
      ]
    },
    {
      "cell_type": "code",
      "metadata": {
        "colab": {
          "base_uri": "https://localhost:8080/"
        },
        "id": "1gZ8uyjquExf",
        "outputId": "3c493105-996d-46b9-87d7-76bbcb4ed8da"
      },
      "source": [
        "print('Train Score:',regressor.score(x_train,y_train))\n",
        "print('Test Score:',regressor.score(x_test,y_test))"
      ],
      "execution_count": 20,
      "outputs": [
        {
          "output_type": "stream",
          "name": "stdout",
          "text": [
            "Train Score: 0.6468352904514658\n",
            "Test Score: 0.3197112827971028\n"
          ]
        }
      ]
    }
  ]
}